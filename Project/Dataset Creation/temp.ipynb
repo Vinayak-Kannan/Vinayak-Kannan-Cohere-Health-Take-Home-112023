{
 "cells": [
  {
   "cell_type": "code",
   "execution_count": null,
   "metadata": {},
   "outputs": [],
   "source": [
    "!pip install torch\n",
    "!pip install Bio-Epidemiology-NER"
   ]
  },
  {
   "cell_type": "code",
   "execution_count": 17,
   "metadata": {},
   "outputs": [
    {
     "name": "stdout",
     "output_type": "stream",
     "text": [
      "      file_idx               primary_diagnosis  count  doc_total_count  \\\n",
      "1556    100035                        Seizures     38               95   \n",
      "1846    100035                          Anoxic      0               95   \n",
      "1847    100035                    Brain Injury     12               95   \n",
      "1848    100035                    brain injury     12               95   \n",
      "1849    100035              Status Asthmaticus     19               95   \n",
      "1850    100035                      Ventilator      5               95   \n",
      "1852    100035  Chronic Systolic Heart Failure      0               95   \n",
      "1853    100035         L1 compression fracture      9               95   \n",
      "1854    100035                         hypoxic      0               95   \n",
      "\n",
      "                cleaned_diagnosis        tf       idf     tfidf  \n",
      "1556                     seizures  0.400000  5.007296  2.002919  \n",
      "1846                       anoxic  0.000000  5.700444  0.000000  \n",
      "1847                  braininjury  0.252632  5.700444  1.440112  \n",
      "1848                  braininjury  0.252632  5.700444  1.440112  \n",
      "1849            statusasthmaticus  0.200000  5.700444  1.140089  \n",
      "1850                   ventilator  0.052632  5.007296  0.263542  \n",
      "1852  chronicsystolicheartfailure  0.000000  5.700444  0.000000  \n",
      "1853        l1compressionfracture  0.094737  5.700444  0.540042  \n",
      "1854                      hypoxic  0.000000  5.700444  0.000000  \n"
     ]
    }
   ],
   "source": [
    "# Load primary_diagnosis.csv as pandas df\n",
    "import pandas as pd\n",
    "import numpy as np\n",
    "from sklearn.feature_extraction.text import TfidfVectorizer\n",
    "from Bio_Epidemiology_NER.bio_recognizer import ner_prediction\n",
    "\n",
    "\n",
    "df = pd.read_csv('primary_diagnosis.csv')\n",
    "df['cleaned_diagnosis'] = df['primary_diagnosis'].str.lower()\n",
    "df['entity_type'] = ner_prediction(str(key), compute='cpu')['entity_group'].iloc[0]\n",
    "\n",
    "\n",
    "# Print filtered down version of df where file_idx == 100035\n",
    "print(df[df['file_idx'] == 100035])"
   ]
  }
 ],
 "metadata": {
  "kernelspec": {
   "display_name": "Python 3",
   "language": "python",
   "name": "python3"
  },
  "language_info": {
   "codemirror_mode": {
    "name": "ipython",
    "version": 3
   },
   "file_extension": ".py",
   "mimetype": "text/x-python",
   "name": "python",
   "nbconvert_exporter": "python",
   "pygments_lexer": "ipython3",
   "version": "3.10.8"
  }
 },
 "nbformat": 4,
 "nbformat_minor": 2
}
