{
 "cells": [
  {
   "cell_type": "markdown",
   "metadata": {},
   "source": [
    "## Load in Data\n",
    "You must provide YOUR OWN PATH to the location of the sampleclinicalnotes.zip file in the `PATH_TO_ZIP` object."
   ]
  },
  {
   "cell_type": "code",
   "execution_count": 2,
   "metadata": {},
   "outputs": [],
   "source": [
    "from load_data import load_ann, load_txt\n",
    "import pandas as pd"
   ]
  },
  {
   "cell_type": "code",
   "execution_count": 3,
   "metadata": {},
   "outputs": [
    {
     "name": "stdout",
     "output_type": "stream",
     "text": [
      "Full data path: /workspaces/codespaces-jupyter/Project/RawData/\n",
      "Time taken to read .txt files: 0.01081991195678711\n",
      "Time taken to read .ann files and extract all metadata: 0.12294292449951172\n"
     ]
    }
   ],
   "source": [
    "PATH_TO_ZIP = \"/workspaces/codespaces-jupyter/Project/RawData\"\n",
    "DATA_PATH = f\"{PATH_TO_ZIP}/\"\n",
    "print(f\"Full data path: {DATA_PATH}\")\n",
    "# read in txt files\n",
    "txt_df = load_txt(DATA_PATH)\n",
    "# read in REASONS entities from .ann files\n",
    "ent_df, rel_df = load_ann(DATA_PATH)"
   ]
  },
  {
   "cell_type": "code",
   "execution_count": 8,
   "metadata": {},
   "outputs": [
    {
     "name": "stdout",
     "output_type": "stream",
     "text": [
      "txt_df shape: (303, 2)\n",
      "txt_df columns: Index(['file_idx', 'text'], dtype='object')\n",
      "txt_df head:\n",
      "   file_idx                                               text\n",
      "0   109450  Admission Date:  [**2121-8-7**]              D...\n",
      "1   103677  Admission Date:  [**2128-12-3**]              ...\n",
      "2   113824  Admission Date:  [**2200-6-14**]              ...\n",
      "3   113524  Admission Date:  [**2124-1-14**]              ...\n",
      "4   115244  Admission Date:  [**2168-4-18**]     Discharge...\n",
      "ent_df shape: (50951, 6)\n",
      "ent_df columns: Index(['file_idx', 'entity_id', 'category', 'start_idx', 'end_idx', 'text'], dtype='object')\n",
      "ent_df head:\n",
      "   file_idx entity_id  category start_idx end_idx             text\n",
      "0   120253        T1      Drug     10002   10015  Calcipotriene\\n\n",
      "1   120253        T2  Strength     10016   10021         0.005 \\n\n",
      "2   120253        T3      Form     10024   10029          Cream\\n\n",
      "3   120253        T4    Dosage     10035   10042        One (1)\\n\n",
      "4   120253        T5      Form     10043   10047           Appl\\n\n",
      "rel_df shape: (36348, 5)\n",
      "rel_df columns: Index(['file_idx', 'relationship_id', 'category', 'entity1', 'entity2'], dtype='object')\n",
      "rel_df head:\n",
      "   file_idx relationship_id       category  entity1    entity2\n",
      "0   120253              R1  Strength-Drug  Arg1:T2  Arg2:T1\\n\n",
      "1   120253              R2      Form-Drug  Arg1:T3  Arg2:T1\\n\n",
      "2   120253              R3    Dosage-Drug  Arg1:T4  Arg2:T1\\n\n",
      "3   120253              R4      Form-Drug  Arg1:T5  Arg2:T1\\n\n",
      "4   120253              R5     Route-Drug  Arg1:T6  Arg2:T1\\n\n"
     ]
    }
   ],
   "source": [
    "# EDA on txt_df\n",
    "print(\"txt_df shape:\", txt_df.shape)\n",
    "print(\"txt_df columns:\", txt_df.columns)\n",
    "print(\"txt_df head:\\n\", txt_df.head())\n",
    "\n",
    "# EDA on ent_df\n",
    "print(\"ent_df shape:\", ent_df.shape)\n",
    "print(\"ent_df columns:\", ent_df.columns)\n",
    "print(\"ent_df head:\\n\", ent_df.head())\n",
    "\n",
    "# EDA on rel_df\n",
    "print(\"rel_df shape:\", rel_df.shape)\n",
    "print(\"rel_df columns:\", rel_df.columns)\n",
    "print(\"rel_df head:\\n\", rel_df.head())"
   ]
  },
  {
   "cell_type": "code",
   "execution_count": 14,
   "metadata": {},
   "outputs": [
    {
     "name": "stdout",
     "output_type": "stream",
     "text": [
      "           category                 example\n",
      "Drug          16225             Golimumab\\n\n",
      "Strength       6691                   600\\n\n",
      "Form           6651                Tablet\\n\n",
      "Frequency      6281   TID (3 times a day)\\n\n",
      "Route          5476                  drip\\n\n",
      "Dosage         4221               One (1)\\n\n",
      "Reason         3855   shortness of breath\\n\n",
      "ADE             959  mental status change\\n\n",
      "Duration        592             seven-day\\n\n",
      "                category\n",
      "Strength-Drug       6702\n",
      "Form-Drug           6654\n",
      "Frequency-Drug      6310\n",
      "Route-Drug          5538\n",
      "Reason-Drug         5169\n",
      "Dosage-Drug         4225\n",
      "ADE-Drug            1107\n",
      "Duration-Drug        643\n"
     ]
    },
    {
     "data": {
      "text/plain": [
       "'\\n# LEARNING: \\n# 1. The categories of entities and relationships are not mutually exclusive. For example, a patient can have both a primary diagnosis and a secondary diagnosis.\\n# 2. All relationships are tying entities to drugs\\n# 3. \\n'"
      ]
     },
     "execution_count": 14,
     "metadata": {},
     "output_type": "execute_result"
    }
   ],
   "source": [
    "\"\"\"\n",
    "# QUESTION: What are the categories of entities and relationships? Do they encapsulate primary medical diagnoses and common unerlying factors?\"\n",
    "\"\"\"\n",
    "# Store unique values in 'category' in ent_df and the count of each, and an example of the category in a DF\n",
    "ent_df_unique = pd.DataFrame(ent_df['category'].value_counts())\n",
    "# Get an example of each category and add it as a column to ent_df_unique\n",
    "ent_df_unique['example'] = ent_df.groupby('category')['text'].apply(lambda x: x.sample(1).values[0])\n",
    "print(ent_df_unique.head(30))\n",
    "\n",
    "\n",
    "# Store unique values in 'category' in rel_df and the count of each in a DF\n",
    "rel_df_unique = pd.DataFrame(rel_df['category'].value_counts())\n",
    "print(rel_df_unique.head(30))\n",
    "\n",
    "\"\"\"\n",
    "# LEARNING: \n",
    "# 1. The categories of entities and relationships are not mutually exclusive. For example, a patient can have both a primary diagnosis and a secondary diagnosis.\n",
    "# 2. All relationships are tying entities to drugs\n",
    "# 3. ADE and Reason seem somewhat similar\n",
    "\"\"\"\n",
    "\n",
    "\"\"\"\n",
    "# FURTHER QUESTIONS TO EXPLORE:\n",
    "# 1. Can ADE also be a medical diagnoses, in addition to reason?\n",
    "# 2. Can we derive the primary diagnosis by choosing the most common Reason / ADE?\n",
    "# 3. Can we derive the primary diagnosis by choosing the Reason / ADE that is most closely related to most frequently occuring drug?\n",
    "# 4. \n",
    "\"\"\""
   ]
  }
 ],
 "metadata": {
  "kernelspec": {
   "display_name": "Python 3",
   "language": "python",
   "name": "python3"
  },
  "language_info": {
   "codemirror_mode": {
    "name": "ipython",
    "version": 3
   },
   "file_extension": ".py",
   "mimetype": "text/x-python",
   "name": "python",
   "nbconvert_exporter": "python",
   "pygments_lexer": "ipython3",
   "version": "3.10.8"
  }
 },
 "nbformat": 4,
 "nbformat_minor": 2
}
