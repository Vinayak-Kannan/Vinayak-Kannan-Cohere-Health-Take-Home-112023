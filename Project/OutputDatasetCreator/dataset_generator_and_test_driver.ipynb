{
 "cells": [
  {
   "cell_type": "markdown",
   "metadata": {},
   "source": [
    "## Necessary dependency installations"
   ]
  },
  {
   "cell_type": "code",
   "execution_count": null,
   "metadata": {},
   "outputs": [],
   "source": [
    "!pip install openai\n",
    "!pip install nltk\n",
    "!pip install pandas\n",
    "!pip install numpy\n",
    "!pip install spacy\n",
    "!pip install scispacy\n",
    "!pip install https://s3-us-west-2.amazonaws.com/ai2-s2-scispacy/releases/v0.5.3/en_core_sci_sm-0.5.3.tar.gz\n",
    "!pip install Bio-Epidemiology-NER\n",
    "!pip install python-dotenv\n",
    "!pip install thefuzz"
   ]
  },
  {
   "cell_type": "markdown",
   "metadata": {},
   "source": [
    "# Dataset Generation\n",
    "### Note: This code requires an OpenAI key to enable ensemble methodology using NER and LLM. Please provide an API key below in order to generate the dataset from the provided raw data\n",
    "#### To skip dataset generation, skip to 'Testing / Validation output' section. Note that dataset generation may take a while to run"
   ]
  },
  {
   "cell_type": "code",
   "execution_count": 1,
   "metadata": {},
   "outputs": [
    {
     "name": "stderr",
     "output_type": "stream",
     "text": [
      "[nltk_data] Downloading package punkt to /home/codespace/nltk_data...\n",
      "[nltk_data]   Package punkt is already up-to-date!\n"
     ]
    }
   ],
   "source": [
    "import warnings\n",
    "warnings.simplefilter(action='ignore', category=FutureWarning)\n",
    "from dotenv import dotenv_values\n",
    "from Helpers.load_data import load_ann, load_txt\n",
    "from Helpers.clinician_note_dataset_handler import ClinicianNoteDataSetHandler\n",
    "from Helpers.tester import Tester\n",
    "import pandas as pd\n",
    "from thefuzz import fuzz"
   ]
  },
  {
   "cell_type": "code",
   "execution_count": 4,
   "metadata": {},
   "outputs": [],
   "source": [
    "OpenAI_Key = \"\"\n",
    "# Or use environment variables\n",
    "config = dotenv_values(\"/workspaces/codespaces-jupyter/Project/.env\")\n",
    "OpenAI_Key = config.get(\"OPEN_AI_KEY\")\n",
    "if OpenAI_Key == None:\n",
    "    OpenAI_Key = \"\""
   ]
  },
  {
   "cell_type": "code",
   "execution_count": null,
   "metadata": {},
   "outputs": [],
   "source": [
    "# Provided code block below by Cohere Health\n",
    "PATH_TO_ZIP = \"/workspaces/codespaces-jupyter/Project/RawData\"\n",
    "DATA_PATH = f\"{PATH_TO_ZIP}/\"\n",
    "print(f\"Full data path: {DATA_PATH}\")\n",
    "txt_df = load_txt(DATA_PATH)\n",
    "ent_df, rel_df = load_ann(DATA_PATH)\n",
    "\n",
    "if len(OpenAI_Key) == 0: # type: ignore\n",
    "    print(\"Please provide an OpenAI API Key and try again\")\n",
    "    exit()\n",
    "data_handler = ClinicianNoteDataSetHandler(txt_df, ent_df, rel_df, OpenAI_Key) # type: ignore\n",
    "\n",
    "output = data_handler.identify_primary_diagnosis_and_underlying_factors()\n",
    "output.to_csv('./Clinical_Note_Diagnoses_Factors_Dataset.csv', index=False)"
   ]
  },
  {
   "cell_type": "markdown",
   "metadata": {},
   "source": [
    "# Testing / Validation output"
   ]
  },
  {
   "cell_type": "code",
   "execution_count": 2,
   "metadata": {},
   "outputs": [
    {
     "name": "stdout",
     "output_type": "stream",
     "text": [
      "Testing Primary Medicla diagnoses...\n",
      "NER Accuracy:  0.4070175438596491\n",
      "LLM Accuracy:  0.8701754385964913\n",
      "Ensemble Accuracy:  0.9192982456140351\n",
      "Testing Common Underlying Factors...\n",
      "Percentage of Notes with Underlying Factors that Directly Appear in Note 0.7578947368421053\n"
     ]
    }
   ],
   "source": [
    "output_df = pd.read_csv('./Clinical_Note_Diagnoses_Factors_Dataset.csv')\n",
    "txt_df = pd.read_csv('./Intermediate Data File/txt_df.csv')\n",
    "ent_df= pd.read_csv('./Intermediate Data File/ent_df.csv')\n",
    "rel_df = pd.read_csv('./Intermediate Data File/rel_df.csv')\n",
    "\n",
    "TesterInstance = Tester(txt_df, ent_df, rel_df, output_df)\n",
    "TesterInstance.test_primary_medical_diagnosis()\n",
    "\n",
    "TesterInstance.test_common_underlying_factors()"
   ]
  },
  {
   "cell_type": "markdown",
   "metadata": {},
   "source": [
    "# Diagnosis and Symptom Explorer\n",
    "#### Please provide a Primary Medical Diagnosis / Condition in the cell below to retrieve its underlying Common Factors. The code will fuzzy match it to find matches for you within the dataset"
   ]
  },
  {
   "cell_type": "code",
   "execution_count": 3,
   "metadata": {},
   "outputs": [],
   "source": [
    "primary_medical_condition_to_search_for = \"heart disease\""
   ]
  },
  {
   "cell_type": "code",
   "execution_count": 7,
   "metadata": {},
   "outputs": [
    {
     "name": "stdout",
     "output_type": "stream",
     "text": [
      "Number of diagnoses found: 25\n",
      "The primary medical condition for patient in docuement number 196798 was Congestive Heart Failure\n",
      "This is a Higher Confidence Prediction\n",
      "This is because the NER and LLM models used in ensemble identified the same primary medical condition\n",
      "The underlying conditions for this Primary Medical Diagnosis are:\n",
      "Hypoxic\n",
      "Hypoxia\n",
      "Agitation\n",
      "Pneumonia\n",
      "Coronary Artery Disease\n",
      "\n"
     ]
    }
   ],
   "source": [
    "if primary_medical_condition_to_search_for == \"\":\n",
    "    print(\"Please enter a primary medical condition to search for\")\n",
    "else:\n",
    "    filtered_output_df = output_df[output_df['primary_diagnosis'].apply(lambda x: fuzz.token_set_ratio(x, primary_medical_condition_to_search_for)) > 50]\n",
    "    print(f\"Number of diagnoses found: {len(filtered_output_df)}\")\n",
    "\n",
    "    filtered_output_df = filtered_output_df.head(1)\n",
    "\n",
    "    file_idx = filtered_output_df['file_idx'].values[0]\n",
    "    primary_medical_condition = filtered_output_df['primary_diagnosis'].values[0]\n",
    "    primary_medical_condition_LLM = filtered_output_df['primary_diagnosis_LLM'].values[0]\n",
    "    primary_medical_condition_NER = filtered_output_df['primary_diagnosis_NER'].values[0]\n",
    "    confidence = filtered_output_df['confidence'].values[0]\n",
    "    print(f\"The primary medical condition for patient in docuement number {file_idx} was {primary_medical_condition}\")\n",
    "    print(f\"This is a {confidence}\")\n",
    "    if confidence == 'Higher Confidence Prediction':\n",
    "        print(\"This is because the NER and LLM models used in ensemble identified the same primary medical condition\")\n",
    "    elif confidence == 'Lower Confidence Prediction':\n",
    "        print(\"This is because the NER and LLM models used in ensemble identified different primary medical conditions\")\n",
    "        print(f\"The LLM model identified the primary medical condition as: {primary_medical_condition_LLM}\")\n",
    "        print(f\"The NER model identified the primary medical condition as: {primary_medical_condition_NER}\")\n",
    "    \n",
    "    underlying_conditions = filtered_output_df['Common_Underlying_Factors'].values[0]\n",
    "    print(\"The underlying conditions for this Primary Medical Diagnosis are:\")\n",
    "    for underlying_condition in underlying_conditions.split(','):\n",
    "        print(underlying_condition.strip())"
   ]
  }
 ],
 "metadata": {
  "kernelspec": {
   "display_name": "Python 3",
   "language": "python",
   "name": "python3"
  },
  "language_info": {
   "codemirror_mode": {
    "name": "ipython",
    "version": 3
   },
   "file_extension": ".py",
   "mimetype": "text/x-python",
   "name": "python",
   "nbconvert_exporter": "python",
   "pygments_lexer": "ipython3",
   "version": "3.10.8"
  }
 },
 "nbformat": 4,
 "nbformat_minor": 2
}
